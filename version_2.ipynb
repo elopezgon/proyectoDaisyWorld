{
 "metadata": {
  "name": "",
  "signature": "sha256:bc30449c54d14559af859b9951c5458ca3a012174af0e4e07b3a8fdc9598f31d"
 },
 "nbformat": 3,
 "nbformat_minor": 0,
 "worksheets": [
  {
   "cells": [
    {
     "cell_type": "code",
     "collapsed": false,
     "input": [
      "%pylab inline\n",
      "import numpy as np\n",
      "import matplotlib.pyplot as plt\n",
      "from IPython.html.widgets import interact, fixed\n",
      "from IPython.html import widgets"
     ],
     "language": "python",
     "metadata": {},
     "outputs": [
      {
       "output_type": "stream",
       "stream": "stdout",
       "text": [
        "Populating the interactive namespace from numpy and matplotlib\n"
       ]
      }
     ],
     "prompt_number": 4
    },
    {
     "cell_type": "code",
     "collapsed": false,
     "input": [
      "class Planeta:\n",
      "    \n",
      "    def __init__(self,plantas, albedo_f, luminosidad, prop_fertil, q = 15, boltz = 5.67e-8):\n",
      "        self.blanca = plantas[0]\n",
      "        self.negra = plantas[1]       \n",
      "        self.albedo_f = albedo_f\n",
      "        self.luminosidad = luminosidad\n",
      "        self.boltz = boltz\n",
      "        self.albedo_p = None\n",
      "        self.temp_g = []\n",
      "        self.q = q\n",
      "        self.prop_fertil = prop_fertil\n",
      "        self.area_blanca = []\n",
      "        self.area_negra =[]\n",
      "        self.step = 0\n",
      "        \n",
      "    def actualiza_temp_g(self):\n",
      "        self.temp_g = np.append(self.temp_g,((self.luminosidad[self.step]/(self.boltz))*(1 - self.albedo_p))**0.25 )\n",
      "\n",
      "    \n",
      "    def actualiza_albedo_p(self):\n",
      "        self.prop_fertil = 1 - self.blanca.prop_area - self.negra.prop_area\n",
      "        self.albedo_p = self.blanca.prop_area * self.blanca.albedo + self.negra.prop_area * self.negra.albedo + self.prop_fertil * self.albedo_f\n",
      "\n",
      "        \n",
      "    def vivir(self):\n",
      "        for i in self.luminosidad:\n",
      "            self.actualiza_albedo_p()\n",
      "            self.actualiza_temp_g()\n",
      "            self.blanca.actualizar(self)\n",
      "            self.negra.actualizar(self)\n",
      "            self.area_blanca = np.append(self.area_blanca,blanca.prop_area)\n",
      "            self.area_negra= np.append(self.area_negra,negra.prop_area)\n",
      "            self.step += 1\n",
      "        \n",
      "    def iam(self):\n",
      "        print \"TEMPERATUA GLOBAL: \" + str(self.temp_g) + \" ALBEDO GLOBAL: \" + str(self.albedo_p)\n",
      "        print \"PROPORCION FERTIL: \" + str(self.prop_fertil)\n",
      "        print \"STEP \" + str(self.step)\n",
      "        print \"AREA NEGRAS:\"\n",
      "        for i in self.area_blanca:\n",
      "            print i\n",
      "        print \"AREAS BLANCAS:\"\n",
      "        for i in self.area_negra:\n",
      "            print i\n",
      "    \n",
      "    def graficar_areas(self):\n",
      "        plt.plot(self.luminosidad,self.area_blanca)\n",
      "        plt.plot(self.luminosidad,self.area_negra)\n",
      "        plt.plot(self.luminosidad, self.area_blanca + self.area_negra)\n",
      "        \n",
      "        plt.plot(self.luminosidad,self.temp_g)"
     ],
     "language": "python",
     "metadata": {},
     "outputs": [],
     "prompt_number": 28
    },
    {
     "cell_type": "code",
     "collapsed": false,
     "input": [
      "class Planta:\n",
      "    dif_area =0\n",
      "    temp_l=0\n",
      "    tasa_cre = 0\n",
      "    def __init__(self, color, albedo, prop_area, tasa_muerte = 0.1, superior = 313, inferior = 278):\n",
      "        self.color = color\n",
      "        self.albedo = albedo\n",
      "        self.prop_area = prop_area\n",
      "        self.tasa_muerte = tasa_muerte\n",
      "        self.superior = superior\n",
      "        self.inferior = inferior\n",
      "           \n",
      "    def actualiza_temp_l(self, mundo):\n",
      "        self.temp_l = mundo.q * (mundo.albedo_p - self.albedo) + mundo.temp_g[mundo.step]\n",
      "        \n",
      "    def actualiza_taza_cre(self):\n",
      "        if self.temp_l > self.inferior and self.temp_l < self.superior :\n",
      "            self.tasa_cre = (self.temp_l - self.inferior) * (self.superior - self.temp_l) * 4 / (self.inferior -self.superior)**2\n",
      "        else:\n",
      "            self.tasa_cre = 0          \n",
      "            \n",
      "    def actualiza_area(self,mundo):\n",
      "        self.dif_area = self.prop_area*(self.tasa_cre * mundo.prop_fertil - self.tasa_muerte)\n",
      "        self.prop_area = self.prop_area  + self.dif_area\n",
      "        if self.prop_area <= 0.01:\n",
      "            self.prop_area = 0.01\n",
      "        if self.prop_area >= .99:\n",
      "            self.prop_area = .99\n",
      "\n",
      "    def actualizar(self,mundo):\n",
      "        self.actualiza_temp_l(mundo)\n",
      "        self.actualiza_taza_cre()\n",
      "        self.actualiza_area(mundo)\n",
      "    \n",
      "    def iam(self):\n",
      "        print \"COLOR: \" + self.color + \" ALBEDO: \" + str(self.albedo)\n",
      "        print \"TASA DE MUERTE: \" + str(self.tasa_muerte) + \" TASA DE CRECIMIENTO: \" + str(self.tasa_cre)\n",
      "        print \"TEMPERATURA LOCAL:\" + str(self.temp_l) \n",
      "        print \"AREA \" + str(self.prop_area)"
     ],
     "language": "python",
     "metadata": {},
     "outputs": [],
     "prompt_number": 29
    },
    {
     "cell_type": "code",
     "collapsed": false,
     "input": [
      "area_n = np.random.rand()\n",
      "area_b = np.random.rand()\n",
      "while (area_n + area_b) > 1:\n",
      "    area_n = np.random.rand()\n",
      "    area_b = np.random.rand()\n",
      "area_f = 1 - (area_n + area_b)\n",
      "\n",
      "negra = Planta(\"negra\",.25, area_n)\n",
      "blanca = Planta(\"blanca\",.75, area_b)\n",
      "\n",
      "luminosidad = np.linspace(.6,1.8,100)\n",
      "luminosidad *=1000\n",
      "plantas = [negra,blanca]\n",
      "\n",
      "primer_intento = Planeta(plantas, 0.5,luminosidad, area_f)\n",
      "primer_intento.vivir()\n",
      "primer_intento.graficar_areas()\n"
     ],
     "language": "python",
     "metadata": {},
     "outputs": [
      {
       "metadata": {},
       "output_type": "display_data",
       "png": "[encoded data removed]",
       "text": [
        "<matplotlib.figure.Figure at 0xa283f28>"
       ]
      }
     ],
     "prompt_number": 30
    },
    {
     "cell_type": "code",
     "collapsed": false,
     "input": [],
     "language": "python",
     "metadata": {},
     "outputs": [
      {
       "metadata": {},
       "output_type": "pyout",
       "prompt_number": 14,
       "text": [
        "200"
       ]
      }
     ],
     "prompt_number": 14
    },
    {
     "cell_type": "code",
     "collapsed": false,
     "input": [
      "\n"
     ],
     "language": "python",
     "metadata": {},
     "outputs": [
      {
       "metadata": {},
       "output_type": "pyout",
       "prompt_number": 74,
       "text": [
        "100"
       ]
      }
     ],
     "prompt_number": 74
    },
    {
     "cell_type": "code",
     "collapsed": false,
     "input": [
      "\n",
      "luminosidad = np.linspace(.6,1.8,100)\n",
      "luminosidad *=1000\n",
      "\n",
      "def juan(area_n,area_b):\n",
      "    \n",
      "    negra = Planta(\"negra\",.25, area_n)\n",
      "    blanca = Planta(\"blanca\",.75, area_b)\n",
      "    area_f = 1 - (area_n + area_b)\n",
      "\n",
      "    plantas = [negra,blanca]\n",
      "\n",
      "    primer_intento = Planeta(plantas, 0.5,luminosidad, area_f)\n",
      "    primer_intento.vivir()\n",
      "    primer_intento.graficar_areas()\n",
      "\n",
      "    \n",
      "\n",
      "    \n"
     ],
     "language": "python",
     "metadata": {},
     "outputs": [],
     "prompt_number": 22
    },
    {
     "cell_type": "code",
     "collapsed": false,
     "input": [
      "interact (juan, area_n =(0,1,.01),area_b(0,1,.01))"
     ],
     "language": "python",
     "metadata": {},
     "outputs": [
      {
       "ename": "SyntaxError",
       "evalue": "non-keyword arg after keyword arg (<ipython-input-24-f899015111a8>, line 1)",
       "output_type": "pyerr",
       "traceback": [
        "\u001b[1;36m  File \u001b[1;32m\"<ipython-input-24-f899015111a8>\"\u001b[1;36m, line \u001b[1;32m1\u001b[0m\n\u001b[1;33m    interact (juan(), area_n =(0,1,.01),area_b(0,1,.01))\u001b[0m\n\u001b[1;31mSyntaxError\u001b[0m\u001b[1;31m:\u001b[0m non-keyword arg after keyword arg\n"
       ]
      }
     ],
     "prompt_number": 24
    },
    {
     "cell_type": "code",
     "collapsed": false,
     "input": [],
     "language": "python",
     "metadata": {},
     "outputs": []
    }
   ],
   "metadata": {}
  }
 ]
}