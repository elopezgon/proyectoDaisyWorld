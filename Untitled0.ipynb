{
 "metadata": {
  "name": "",
  "signature": "sha256:06a0c68b8b2ba4a5bc704c1c96723eb8ddd98669a52ecbadf6dbc9bcbf89dc60"
 },
 "nbformat": 3,
 "nbformat_minor": 0,
 "worksheets": [
  {
   "cells": [
    {
     "cell_type": "code",
     "collapsed": false,
     "input": [
      "%pylab inline\n",
      "import numpy as np\n",
      "import matplotlib.pyplot as plt"
     ],
     "language": "python",
     "metadata": {},
     "outputs": [
      {
       "output_type": "stream",
       "stream": "stdout",
       "text": [
        "Populating the interactive namespace from numpy and matplotlib\n"
       ]
      }
     ],
     "prompt_number": 1
    },
    {
     "cell_type": "code",
     "collapsed": false,
     "input": [
      "class planeta:\n",
      "    def _init_(self, albedo_f, luminosidad, boltz = 5.67 * 10^(-8), albedo_p, temp_g, q = 15)\n",
      "        self.albedo_f = albedo_f\n",
      "        self.luminosidad = luminosidad\n",
      "        self.boltz = boltz\n",
      "        self.albedo_p = albedo_p\n",
      "        self.temp_g = temp_p\n",
      "        self.q = q\n",
      "        \n",
      "    def actualiza_temp(self)\n",
      "        self.temp_g = ((luminosidad/(4*boltz))*(1 - albedo_p))**0.25\n",
      "    \n",
      "    def \n",
      "    \n",
      "    \n",
      "    \n",
      "    \n",
      "\n",
      "        "
     ],
     "language": "python",
     "metadata": {},
     "outputs": []
    },
    {
     "cell_type": "code",
     "collapsed": false,
     "input": [
      "class planta\n",
      "    def _init_(self, albedo, temp_l, prop_area, tasa_cre, tasa_muerte = \n",
      "               ,superior = 40, inferior = 5):\n",
      "        self.albedo = albedo\n",
      "        self.temp_l = temp_l\n",
      "        self.prop_area = prop_area\n",
      "        self.tasa_cre = tasa_cre\n",
      "        self.tasa_muerte = tasa_muerte\n",
      "        \n",
      "        \n",
      "    def actualiza_temp_l(self, temp_g, albedo_p, q):\n",
      "        self.temp_l = q * (albedo_p - albedo) + temp_g\n",
      "        \n",
      "    def actualiza_taza_cre(self):\n",
      "        if self.temp_l > inferior & self.temp_l < superior :\n",
      "            self.tasa_cre = (temp_l - inferior) * (superior - temp_l) * 4 / (inferior -superior)**4\n",
      "\n",
      "\n",
      "\n"
     ],
     "language": "python",
     "metadata": {},
     "outputs": []
    }
   ],
   "metadata": {}
  }
 ]
}