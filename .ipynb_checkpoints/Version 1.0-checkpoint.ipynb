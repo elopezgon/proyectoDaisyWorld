{
 "metadata": {
  "name": "",
  "signature": "sha256:58b052d3759fc7da54057fd1eac2f38f1cb2955d5be3a714898e3f6bfa76c19a"
 },
 "nbformat": 3,
 "nbformat_minor": 0,
 "worksheets": [
  {
   "cells": [
    {
     "cell_type": "code",
     "collapsed": false,
     "input": [
      "%pylab inline\n",
      "import numpy as np\n",
      "import matplotlib.pyplot as plt"
     ],
     "language": "python",
     "metadata": {},
     "outputs": [
      {
       "output_type": "stream",
       "stream": "stdout",
       "text": [
        "Populating the interactive namespace from numpy and matplotlib\n"
       ]
      }
     ],
     "prompt_number": 14
    },
    {
     "cell_type": "code",
     "collapsed": false,
     "input": [
      "class planeta:\n",
      "    def __init__(self, albedo_f, luminosidad, prop_fertil = 0.98, q = 3.2163e3, boltz = 5.67e-8):\n",
      "        self.albedo_f = albedo_f\n",
      "        self.luminosidad = luminosidad\n",
      "        self.boltz = boltz\n",
      "        self.albedo_p = None\n",
      "        self.temp_g = None\n",
      "        self.q = q\n",
      "        self.prop_fertil = prop_fertil\n",
      "        self.step = 0\n",
      "        \n",
      "    def actualiza_temp_g(self):\n",
      "        self.temp_g = ((luminosidad[step]/(4*boltz))*(1 - albedo_p))**0.25\n",
      "    \n",
      "    def actualiza_albedo_p(self,blanca,negra):\n",
      "        self.prop_fertil = 1 - blanca.prop_area - negra.prop_area\n",
      "        self.albedo_p = blanca.prop_area * blanca.albedo + negra.prop_area * negra.albedo + self.prop_fertil * albedo_f\n",
      "        \n",
      "    def actualizar(self,blanca,negra):\n",
      "        self.step += 1\n",
      "        actualiza_albedo_p(self,blanca,negra)\n",
      "        actualiza_temp_g(self)\n",
      "        blanca.actualiar(blanca)\n",
      "        negra.actualizar(negra)\n",
      "        \n",
      "        \n",
      "        \n",
      "    def grafica(self):\n",
      "        pass\n",
      "    \n",
      "    \n",
      "    \n",
      "    \n",
      "\n",
      "        "
     ],
     "language": "python",
     "metadata": {},
     "outputs": [],
     "prompt_number": 32
    },
    {
     "cell_type": "code",
     "collapsed": false,
     "input": [
      "class planta:\n",
      "    def _init_(self, albedo, temp_l, tasa_cre, prop_area = 0.01, tasa_muerte = 0.1\n",
      "               ,superior = 40, inferior = 5):\n",
      "        self.albedo = albedo\n",
      "        self.temp_l = temp_l\n",
      "        self.prop_area = prop_area\n",
      "        self.tasa_cre = tasa_cre\n",
      "        self.tasa_muerte = tasa_muerte\n",
      "        self.dif_area = dif_area\n",
      "        self.area = []\n",
      "        \n",
      "    def actualiza_temp_l(self, mundo):\n",
      "        self.temp_l = mundo.q * (mundo.albedo_p - albedo) + mundo.temp_g\n",
      "        \n",
      "    def actualiza_taza_cre(self):\n",
      "        if self.temp_l > self.inferior & self.temp_l < self.superior :\n",
      "            self.tasa_cre = (self.temp_l - self.inferior) * (self.superior - self.temp_l) * 4 / (self.inferior -self.superior)**4\n",
      "        else:\n",
      "            self.tasa_cre = 0\n",
      "                \n",
      "            \n",
      "    def actualiza_area(self,mundo):\n",
      "        dif_area = self.prop_area(self.tasa_cre * mundo.prop_fertil - self.tasa_muerte)\n",
      "        self.prop_area = self.prop_area * (1 + dif_area)\n",
      "        if self.prop_area < 0.01:\n",
      "            self.prop_area = 0.01\n",
      "        if self.prop_area > .99\n",
      "            self.prop_area = .99\n",
      "        self.area[mundo.step] = self.prop_area\n",
      "        \n",
      "    def actualizar(self,mundo):\n",
      "        self.actualiza_temp_l(self,mundo)\n",
      "        self.actualiza_taza_cre(self)\n",
      "        self.actualiza_area(self,mundo)\n",
      "        \n",
      "    \n",
      "\n",
      "\n",
      "\n"
     ],
     "language": "python",
     "metadata": {},
     "outputs": [],
     "prompt_number": 31
    },
    {
     "cell_type": "code",
     "collapsed": false,
     "input": [
      "primer_intento = planeta(albedo_f = 0.5,luminosidad = np.linspace(.6,1.6,100),step = 1)"
     ],
     "language": "python",
     "metadata": {},
     "outputs": [],
     "prompt_number": 30
    },
    {
     "cell_type": "code",
     "collapsed": false,
     "input": [],
     "language": "python",
     "metadata": {},
     "outputs": []
    }
   ],
   "metadata": {}
  }
 ]
}