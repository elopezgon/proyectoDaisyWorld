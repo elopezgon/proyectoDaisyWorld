{
 "cells": [
  {
   "cell_type": "code",
   "execution_count": 1,
   "metadata": {
    "collapsed": false
   },
   "outputs": [
    {
     "name": "stdout",
     "output_type": "stream",
     "text": [
      "Populating the interactive namespace from numpy and matplotlib\n"
     ]
    }
   ],
   "source": [
    "%pylab inline\n",
    "import numpy as np\n",
    "import matplotlib.pyplot as plt"
   ]
  },
  {
   "cell_type": "code",
   "execution_count": 2,
   "metadata": {
    "collapsed": false
   },
   "outputs": [],
   "source": [
    "class planeta:\n",
    "    def _init_(self, albedo_f, luminosidad, q = 3.2163e3, boltz = 5.67e-8):\n",
    "        self.albedo_f = albedo_f\n",
    "        self.luminosidad = luminosidad\n",
    "        self.boltz = boltz\n",
    "        self.albedo_p = None\n",
    "        self.temp_g = None\n",
    "        self.q = q\n",
    "             \n",
    "    def actualiza_albedo_p(self,blanca,negra, i):\n",
    "        # Aqui modificamos la funcion para poder ejecutarla en cada paso de un contador.\n",
    "        self.prop_fertil = 1 - blanca.prop_area[i] - negra.prop_area[i]\n",
    "        # Si guardamos en vectores las proporciones de las areas, podemos graficar\n",
    "        # tanto el albedo planetario como las proporciones mas facil\n",
    "        self.albedo_p[i] = blanca.prop_area * blanca.albedo + negra.prop_area * negra.albedo + self.prop_fertil * albedo_f\n",
    "        \n",
    "    def actualiza_temp_g(self, i):\n",
    "        # La cambiamos igual que la funcion anterior.\n",
    "        self.temp_g[i] = ((luminosidad[i]/(4*boltz))*(1 - albedo_p))**0.25\n",
    "        # La idea es que temp_g sea un vector para poder graficarla despues\n",
    "            \n",
    "    def grafica(self):\n",
    "        # La grafica ya quedaria mas facil con los vectores anteriores\n",
    "        pass"
   ]
  },
  {
   "cell_type": "code",
   "execution_count": 3,
   "metadata": {
    "collapsed": false
   },
   "outputs": [],
   "source": [
    "class planta:\n",
    "    def _init_(self, albedo, temp_l, tasa_cre, prop_area = 0.01, tasa_muerte = 0.1, superior = 40, inferior = 5):\n",
    "        self.albedo = albedo\n",
    "        self.temp_l = temp_l\n",
    "        self.prop_area = prop_area\n",
    "        self.tasa_cre = tasa_cre\n",
    "        self.tasa_muerte = tasa_muerte\n",
    "        self.dif_area = dif_area\n",
    "        self.area = []\n",
    "        \n",
    "    def actualiza_temp_l(self, temp_g, albedo_p, q):\n",
    "        self.temp_l = q * (albedo_p - albedo) + temp_g\n",
    "        \n",
    "    def actualiza_taza_cre(self):\n",
    "        if self.temp_l > inferior & self.temp_l < superior :\n",
    "            self.tasa_cre = (temp_l - inferior) * (superior - temp_l) * 4 / (inferior -superior)**4\n",
    "            \n",
    "    def actualiza_area(self,prop_fertil,step):\n",
    "        dif_area = self.prop_area(self.tasa_cre * prop_fertil - self.tasa_muerte)\n",
    "        prop_area = prop_area * dif_area\n",
    "        if prop_area < 0.01:\n",
    "            prop_area = 0.01\n",
    "        self.area[step] = self.prop_area"
   ]
  },
  {
   "cell_type": "code",
   "execution_count": 4,
   "metadata": {
    "collapsed": false
   },
   "outputs": [
    {
     "ename": "TypeError",
     "evalue": "this constructor takes no arguments",
     "output_type": "error",
     "traceback": [
      "\u001b[1;31m---------------------------------------------------------------------------\u001b[0m",
      "\u001b[1;31mTypeError\u001b[0m                                 Traceback (most recent call last)",
      "\u001b[1;32m<ipython-input-4-dc9e7d667580>\u001b[0m in \u001b[0;36m<module>\u001b[1;34m()\u001b[0m\n\u001b[1;32m----> 1\u001b[1;33m \u001b[0mprimer_intento\u001b[0m \u001b[1;33m=\u001b[0m \u001b[0mplaneta\u001b[0m\u001b[1;33m(\u001b[0m\u001b[0malbedo_f\u001b[0m \u001b[1;33m=\u001b[0m \u001b[1;36m0.5\u001b[0m\u001b[1;33m,\u001b[0m\u001b[0mluminosidad\u001b[0m \u001b[1;33m=\u001b[0m \u001b[0mnp\u001b[0m\u001b[1;33m.\u001b[0m\u001b[0mlinspace\u001b[0m\u001b[1;33m(\u001b[0m\u001b[1;36m.6\u001b[0m\u001b[1;33m,\u001b[0m\u001b[1;36m1.6\u001b[0m\u001b[1;33m,\u001b[0m\u001b[1;36m100\u001b[0m\u001b[1;33m)\u001b[0m\u001b[1;33m,\u001b[0m\u001b[0mprop_fertil\u001b[0m \u001b[1;33m=\u001b[0m \u001b[1;36m0.98\u001b[0m\u001b[1;33m)\u001b[0m\u001b[1;33m\u001b[0m\u001b[0m\n\u001b[0m",
      "\u001b[1;31mTypeError\u001b[0m: this constructor takes no arguments"
     ]
    }
   ],
   "source": [
    "primer_intento = planeta(albedo_f = 0.5,luminosidad = np.linspace(.6,1.6,100),prop_fertil = 0.98)"
   ]
  },
  {
   "cell_type": "code",
   "execution_count": null,
   "metadata": {
    "collapsed": false
   },
   "outputs": [],
   "source": []
  },
  {
   "cell_type": "code",
   "execution_count": null,
   "metadata": {
    "collapsed": true
   },
   "outputs": [],
   "source": []
  }
 ],
 "metadata": {
  "kernelspec": {
   "display_name": "Python 2",
   "language": "python",
   "name": "python2"
  },
  "language_info": {
   "codemirror_mode": {
    "name": "ipython",
    "version": 2
   },
   "file_extension": ".py",
   "mimetype": "text/x-python",
   "name": "python",
   "nbconvert_exporter": "python",
   "pygments_lexer": "ipython2",
   "version": "2.7.9"
  }
 },
 "nbformat": 4,
 "nbformat_minor": 0
}
