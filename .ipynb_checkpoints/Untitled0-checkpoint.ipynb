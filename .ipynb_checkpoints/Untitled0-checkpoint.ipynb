{
 "metadata": {
  "name": "",
  "signature": "sha256:58f336449db111661475d50d0736488d2de1cfb834f94157dae8012d3fee12db"
 },
 "nbformat": 3,
 "nbformat_minor": 0,
 "worksheets": [
  {
   "cells": [
    {
     "cell_type": "code",
     "collapsed": false,
     "input": [
      "%pylab inline\n",
      "import numpy as np\n",
      "import matplotlib.pyplot as plt"
     ],
     "language": "python",
     "metadata": {},
     "outputs": [
      {
       "output_type": "stream",
       "stream": "stdout",
       "text": [
        "Populating the interactive namespace from numpy and matplotlib\n"
       ]
      }
     ],
     "prompt_number": 14
    },
    {
     "cell_type": "code",
     "collapsed": false,
     "input": [
      "class planeta:\n",
      "    def _init_(self, albedo_f, luminosidad, prop_fertil,step, q = 3.2163e3, boltz = 5.67e-8):\n",
      "        self.albedo_f = albedo_f\n",
      "        self.luminosidad = luminosidad\n",
      "        self.boltz = boltz\n",
      "        self.albedo_p = None\n",
      "        self.temp_g = None\n",
      "        self.q = q\n",
      "        self.prop_fertil = prop.fertil\n",
      "        self.step = step\n",
      "        \n",
      "    def actualiza_temp_g(self):\n",
      "        self.temp_g = ((luminosidad[step]/(4*boltz))*(1 - albedo_p))**0.25\n",
      "    \n",
      "    def actualiza_albedo_p(self,blanca,negra):\n",
      "        self.prop_fertil = 1 - blanca.prop_area - negra.prop_area\n",
      "        self.albedo_p = blanca.prop_area * blanca.albedo + negra.prop_area * negra.albedo + self.prop_fertil * albedo_f\n",
      "        \n",
      "        \n",
      "    def grafica(self):\n",
      "        pass\n",
      "    \n",
      "    \n",
      "    \n",
      "    \n",
      "\n",
      "        "
     ],
     "language": "python",
     "metadata": {},
     "outputs": [],
     "prompt_number": 18
    },
    {
     "cell_type": "code",
     "collapsed": false,
     "input": [
      "class planta:\n",
      "    def _init_(self, albedo, temp_l, tasa_cre, prop_area = 0.01, tasa_muerte = 0.1\n",
      "               ,superior = 40, inferior = 5):\n",
      "        self.albedo = albedo\n",
      "        self.temp_l = temp_l\n",
      "        self.prop_area = prop_area\n",
      "        self.tasa_cre = tasa_cre\n",
      "        self.tasa_muerte = tasa_muerte\n",
      "        self.dif_area = dif_area\n",
      "        self.area = []\n",
      "        \n",
      "    def actualiza_temp_l(self, temp_g, albedo_p, q):\n",
      "        self.temp_l = q * (albedo_p - albedo) + temp_g\n",
      "        \n",
      "    def actualiza_taza_cre(self):\n",
      "        if self.temp_l > inferior & self.temp_l < superior :\n",
      "            self.tasa_cre = (temp_l - inferior) * (superior - temp_l) * 4 / (inferior -superior)**4\n",
      "            \n",
      "    def actualiza_area(self,prop_fertil,step):\n",
      "        dif_area = self.prop_area(self.tasa_cre * prop_fertil - self.tasa_muerte)\n",
      "        prop_area = prop_area * dif_area\n",
      "        if prop_area < 0.01:\n",
      "            prop_area = 0.01\n",
      "        self.area[step] = self.prop_area\n",
      "        \n",
      "    \n",
      "\n",
      "\n",
      "\n"
     ],
     "language": "python",
     "metadata": {},
     "outputs": [],
     "prompt_number": 9
    },
    {
     "cell_type": "code",
     "collapsed": false,
     "input": [
      "primer_intento = planeta(albedo_f = 0.5,luminosidad = np.linspace(.6,1.6,100),prop_fertil = 0.98)"
     ],
     "language": "python",
     "metadata": {},
     "outputs": [
      {
       "ename": "TypeError",
       "evalue": "this constructor takes no arguments",
       "output_type": "pyerr",
       "traceback": [
        "\u001b[1;31m---------------------------------------------------------------------------\u001b[0m\n\u001b[1;31mTypeError\u001b[0m                                 Traceback (most recent call last)",
        "\u001b[1;32m<ipython-input-19-dc9e7d667580>\u001b[0m in \u001b[0;36m<module>\u001b[1;34m()\u001b[0m\n\u001b[1;32m----> 1\u001b[1;33m \u001b[0mprimer_intento\u001b[0m \u001b[1;33m=\u001b[0m \u001b[0mplaneta\u001b[0m\u001b[1;33m(\u001b[0m\u001b[0malbedo_f\u001b[0m \u001b[1;33m=\u001b[0m \u001b[1;36m0.5\u001b[0m\u001b[1;33m,\u001b[0m\u001b[0mluminosidad\u001b[0m \u001b[1;33m=\u001b[0m \u001b[0mnp\u001b[0m\u001b[1;33m.\u001b[0m\u001b[0mlinspace\u001b[0m\u001b[1;33m(\u001b[0m\u001b[1;36m.6\u001b[0m\u001b[1;33m,\u001b[0m\u001b[1;36m1.6\u001b[0m\u001b[1;33m,\u001b[0m\u001b[1;36m100\u001b[0m\u001b[1;33m)\u001b[0m\u001b[1;33m,\u001b[0m\u001b[0mprop_fertil\u001b[0m \u001b[1;33m=\u001b[0m \u001b[1;36m0.98\u001b[0m\u001b[1;33m)\u001b[0m\u001b[1;33m\u001b[0m\u001b[0m\n\u001b[0m",
        "\u001b[1;31mTypeError\u001b[0m: this constructor takes no arguments"
       ]
      }
     ],
     "prompt_number": 19
    },
    {
     "cell_type": "code",
     "collapsed": false,
     "input": [],
     "language": "python",
     "metadata": {},
     "outputs": []
    }
   ],
   "metadata": {}
  }
 ]
}