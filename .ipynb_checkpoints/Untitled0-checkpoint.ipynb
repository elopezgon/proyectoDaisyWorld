{
 "metadata": {
  "name": "",
  "signature": "sha256:237501e9e2d1b6a11a75149de41d4276c96065a9b6a9a6bf45540471348e7f7f"
 },
 "nbformat": 3,
 "nbformat_minor": 0,
 "worksheets": [
  {
   "cells": [
    {
     "cell_type": "code",
     "collapsed": false,
     "input": [
      "%pylab inline\n",
      "import numpy as np\n",
      "import matplotlib.pyplot as plt"
     ],
     "language": "python",
     "metadata": {},
     "outputs": [
      {
       "output_type": "stream",
       "stream": "stdout",
       "text": [
        "Populating the interactive namespace from numpy and matplotlib\n"
       ]
      }
     ],
     "prompt_number": 1
    },
    {
     "cell_type": "code",
     "collapsed": false,
     "input": [
      "class planeta:\n",
      "    def _init_(self, albedo_f, luminosidad, boltz = 5.67 * 10^(-8), albedo_p, temp_g, q = 3.2163 * 10 ^3, prop_fertil,step):\n",
      "        self.albedo_f = albedo_f\n",
      "        self.luminosidad = luminosidad\n",
      "        self.boltz = boltz\n",
      "        self.albedo_p = albedo_p\n",
      "        self.temp_g = temp_p\n",
      "        self.q = q\n",
      "        self.prop_fertil = prop.fertil\n",
      "        sel.step = step\n",
      "        \n",
      "    def actualiza_temp_g(self):\n",
      "        self.temp_g = ((luminosidad/(4*boltz))*(1 - albedo_p))**0.25\n",
      "    \n",
      "    def actualiza_albedo_p(self,blanca.albedo,negra.albedo):\n",
      "        self.prop_fertil = 1 - blanca.prop_area - negra.prop_area\n",
      "        self.albedo_p = blanca.prop_area * blanca.albedo + negra.prop_area * negra.albedo + self.prop_fertil * albedo_f\n",
      "        \n",
      "        \n",
      "    def grafica(self):\n",
      "        \n",
      "    \n",
      "    \n",
      "    \n",
      "    \n",
      "\n",
      "        "
     ],
     "language": "python",
     "metadata": {},
     "outputs": []
    },
    {
     "cell_type": "code",
     "collapsed": false,
     "input": [
      "class planta\n",
      "    def _init_(self, albedo, temp_l, prop_area = 0.01, tasa_cre, tasa_muerte = 0.1\n",
      "               ,superior = 40, inferior = 5, dif_area,):\n",
      "        self.albedo = albedo\n",
      "        self.temp_l = temp_l\n",
      "        self.prop_area = prop_area\n",
      "        self.tasa_cre = tasa_cre\n",
      "        self.tasa_muerte = tasa_muerte\n",
      "        self.dif_area = dif_area\n",
      "        self.area = []\n",
      "        \n",
      "    def actualiza_temp_l(self, temp_g, albedo_p, q):\n",
      "        self.temp_l = q * (albedo_p - albedo) + temp_g\n",
      "        \n",
      "    def actualiza_taza_cre(self):\n",
      "        if self.temp_l > inferior & self.temp_l < superior :\n",
      "            self.tasa_cre = (temp_l - inferior) * (superior - temp_l) * 4 / (inferior -superior)**4\n",
      "            \n",
      "    def actualiza_area(self,prop_fertil,step):\n",
      "        dif_area = self.prop_area(self.tasa_cre * prop_fertil - self.tasa_muerte)\n",
      "        prop_area = prop_area * dif_area\n",
      "        if prop_area < 0.01\n",
      "            prop_area = 0.01\n",
      "        self.area[step] = self.prop_area\n",
      "        \n",
      "    \n",
      "\n",
      "\n",
      "\n"
     ],
     "language": "python",
     "metadata": {},
     "outputs": []
    }
   ],
   "metadata": {}
  }
 ]
}