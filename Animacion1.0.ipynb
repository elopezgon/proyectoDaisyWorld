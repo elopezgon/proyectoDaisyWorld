{
 "cells": [
  {
   "cell_type": "code",
   "execution_count": 1,
   "metadata": {
    "collapsed": false
   },
   "outputs": [
    {
     "name": "stdout",
     "output_type": "stream",
     "text": [
      "Populating the interactive namespace from numpy and matplotlib\n"
     ]
    }
   ],
   "source": [
    "%pylab inline\n",
    "import numpy as np\n",
    "import matplotlib.pyplot as plt\n",
    "from JSAnimation import IPython_display\n",
    "from matplotlib import animation"
   ]
  },
  {
   "cell_type": "code",
   "execution_count": 2,
   "metadata": {
    "collapsed": true
   },
   "outputs": [],
   "source": [
    "class Agente:\n",
    "    \"\"\" Agente general \"\"\"\n",
    "    def __init__(self, tipo, locacion):\n",
    "        self.tipo = tipo\n",
    "        self.locacion = np.array(locacion)\n",
    "        self.siguiente_accion = None\n",
    "\n",
    "    def distancia(self, otro):\n",
    "        \"Calcula la distancia euclídea entre este agente y otro.\"\n",
    "        return np.linalg.norm(self.locacion - otro.locacion)  # Otra manera es usar np.sqrt(np.sum((a-b)**2))\n",
    "    \n",
    "    def vecinos(self, agentes):\n",
    "        pass\n",
    "    \n",
    "    def actuar(self, agentes):\n",
    "        self.locacion =  self.siguiente_accion\n",
    "        \n",
    "    def decidir(self, agentes):\n",
    "        self.siguiente_accion = np.array([random.uniform(0, 1), random.uniform(0, 1)]) # Toma una nueva posición al azar\n",
    "    \n",
    "    def actualizar(self, agentes):\n",
    "        self.decidir(agentes)\n",
    "        self.actuar(agentes)"
   ]
  },
  {
   "cell_type": "code",
   "execution_count": 3,
   "metadata": {
    "collapsed": true
   },
   "outputs": [],
   "source": [
    "class Mundo:\n",
    "    def __init__(self, agentes, ancho=15, alto=15, steps = 10):\n",
    "        self.agentes = agentes\n",
    "        self.ancho = ancho\n",
    "        self.alto = alto\n",
    "        self.steps = steps\n",
    "        self.init_anim()\n",
    "            \n",
    "    def init_anim(self):\n",
    "        self.fig = plt.figure(figsize=(self.ancho, self.alto))\n",
    "        self.ax = plt.axes(xlim=(0, 10), ylim=(0, 10))\n",
    "        x_values_0, y_values_0 = [], []\n",
    "        self.ax.set_axis_bgcolor('azure')\n",
    "        plot_args = {'markersize' : 8, 'alpha' : 1}\n",
    "        for agente in self.agentes:\n",
    "            x, y = agente.locacion\n",
    "            x_values_0.append(x)\n",
    "            y_values_0.append(y)\n",
    "        self.puntos, = self.ax.plot(x_values_0, y_values_0, 'o', **plot_args)\n",
    "       \n",
    "       \n",
    "    def dibujar(self, step):\n",
    "        x_values_0, y_values_0 = [], []\n",
    "        for agente in self.agentes:\n",
    "            x, y = agente.locacion\n",
    "            x_values_0.append(x)\n",
    "            y_values_0.append(y)\n",
    "\n",
    "        self.puntos.set_data(x_values_0, y_values_0)\n",
    "        \n",
    "        self.ax.set_title('Tiempo {}'.format(step))\n",
    "        \n",
    "        return self.puntos,\n",
    "       \n",
    "    def actualizar(self, step):   \n",
    "        self.dibujar(step) # Dibuja el mundo\n",
    "        \n",
    "        for agente in self.agentes:\n",
    "            agente.actualizar(self.agentes)\n",
    "    \n",
    "    def clean_screen(self):\n",
    "        self.puntos.set_data([], [])\n",
    "        return self.puntos,\n",
    "          \n",
    "    def simular(self):\n",
    "        anim = animation.FuncAnimation(self.fig, self.actualizar, init_func=self.clean_screen, frames=self.steps, interval=100, blit=False)\n",
    "        return anim"
   ]
  },
  {
   "cell_type": "code",
   "execution_count": 4,
   "metadata": {
    "collapsed": false
   },
   "outputs": [
    {
     "data": {
      "image/png": "[encoded data removed]",
      "text/plain": [
       "<matplotlib.figure.Figure at 0xa07d780>"
      ]
     },
     "metadata": {},
     "output_type": "display_data"
    }
   ],
   "source": [
    "num_agentes = 100\n",
    "posiciones = [(i+.5,j+.5) for i in range(0,10)for j in range(0,10)]\n",
    "agentes_simples = [Agente(tipo=0,locacion = posiciones[i]) for i in range(num_agentes)]\n",
    "\n",
    "len(agentes_simples)\n",
    "\n",
    "sin_chiste = Mundo(agentes = agentes_simples, steps = 10)\n",
    "\n",
    "#sin_chiste.simular()"
   ]
  },
  {
   "cell_type": "code",
   "execution_count": null,
   "metadata": {
    "collapsed": false
   },
   "outputs": [],
   "source": []
  },
  {
   "cell_type": "code",
   "execution_count": null,
   "metadata": {
    "collapsed": false
   },
   "outputs": [],
   "source": []
  },
  {
   "cell_type": "code",
   "execution_count": 5,
   "metadata": {
    "collapsed": false
   },
   "outputs": [],
   "source": [
    "area_n = np.random.rand()\n",
    "area_b = np.random.rand()\n",
    "while (area_n + area_b) > 1:\n",
    "    area_n = np.random.rand()\n",
    "    area_b = np.random.rand()\n",
    "area_f = 1 - (area_n + area_b)\n",
    "\n",
    "#negras = int(round(area_n*100))\n",
    "#blancas = int (round(area_b*100))\n",
    "#fertil = int(round(area_f*100))\n",
    "negras = 1\n",
    "blancas = 1\n",
    "fertil = 98"
   ]
  },
  {
   "cell_type": "code",
   "execution_count": 6,
   "metadata": {
    "collapsed": true
   },
   "outputs": [],
   "source": [
    "num_agentes = 100\n",
    "posiciones = [(i+.5,j+.5) for i in range(0,10)for j in range(0,10)]"
   ]
  },
  {
   "cell_type": "code",
   "execution_count": 7,
   "metadata": {
    "collapsed": false
   },
   "outputs": [],
   "source": [
    "po_neg=[]\n",
    "for i in  range(negras): \n",
    "    n = np.random.choice(100-i)\n",
    "    po_neg.append(posiciones.pop(n))  \n",
    "   "
   ]
  },
  {
   "cell_type": "code",
   "execution_count": 8,
   "metadata": {
    "collapsed": false
   },
   "outputs": [],
   "source": [
    "po_blan = []\n",
    "k = 100-negras\n",
    "for i in  range(blancas):\n",
    "    n = np.random.choice(k-i)\n",
    "    po_blan.append(posiciones.pop(n))\n"
   ]
  },
  {
   "cell_type": "code",
   "execution_count": 9,
   "metadata": {
    "collapsed": false
   },
   "outputs": [],
   "source": [
    "po_neg;"
   ]
  },
  {
   "cell_type": "code",
   "execution_count": 10,
   "metadata": {
    "collapsed": false
   },
   "outputs": [],
   "source": [
    "po_blan;"
   ]
  },
  {
   "cell_type": "code",
   "execution_count": 11,
   "metadata": {
    "collapsed": false
   },
   "outputs": [],
   "source": [
    "posiciones;"
   ]
  },
  {
   "cell_type": "code",
   "execution_count": 14,
   "metadata": {
    "collapsed": false
   },
   "outputs": [
    {
     "data": {
      "image/png": "[encoded data removed]",
      "text/plain": [
       "<matplotlib.figure.Figure at 0xa2d0eb8>"
      ]
     },
     "metadata": {},
     "output_type": "display_data"
    }
   ],
   "source": [
    "agentes = [Agente(tipo=0,locacion = po_neg[i]) for i in range(negras)]\n",
    "agentes.extend(Agente(tipo=1,locacion= po_blan[i]) for i in range(blancas))\n",
    "agentes.extend(Agente(tipo=2,locacion= posiciones[i]) for i in range(fertil))\n",
    "\n",
    "sin_chiste = Mundo2(agentes = agentes, steps = 10)\n"
   ]
  },
  {
   "cell_type": "code",
   "execution_count": null,
   "metadata": {
    "collapsed": false
   },
   "outputs": [],
   "source": []
  },
  {
   "cell_type": "code",
   "execution_count": 13,
   "metadata": {
    "collapsed": false
   },
   "outputs": [],
   "source": [
    "class Mundo2:\n",
    "    def __init__(self, agentes, ancho=15, alto=15, steps = 10):\n",
    "        self.agentes = agentes\n",
    "        self.ancho = ancho\n",
    "        self.alto = alto\n",
    "        self.steps = steps\n",
    "        self.init_anim()\n",
    "            \n",
    "    def init_anim(self):\n",
    "        self.fig = plt.figure(figsize=(self.ancho, self.alto))\n",
    "        self.ax = plt.axes(xlim=(0, 10), ylim=(0, 10))\n",
    "        x_values_0, y_values_0 = [], []\n",
    "        x_values_1, y_values_1 = [], []\n",
    "        x_values_2, y_values_2 = [], []\n",
    "        \n",
    "        self.ax.set_axis_bgcolor('azure')\n",
    "        plot_args = {'markersize' : 8, 'alpha' : 1}\n",
    "        for agente in self.agentes:\n",
    "            x, y = agente.locacion\n",
    "            if agente.tipo == 0:\n",
    "                x_values_0.append(x)\n",
    "                y_values_0.append(y)\n",
    "                \n",
    "            if agente.tipo == 1:\n",
    "                    x_values_1.append(x)\n",
    "                    y_values_1.append(y)\n",
    "            if agente.tipo == 2:\n",
    "                    x_values_2.append(x)\n",
    "                    y_values_2.append(y)        \n",
    "            \n",
    "        self.puntos_0, = self.ax.plot(x_values_1, y_values_1, 'o',  markerfacecolor='white',**plot_args)\n",
    "        self.puntos_1, = self.ax.plot(x_values_0, y_values_0, 'o', markerfacecolor='black', **plot_args)\n",
    "        self.puntos_2, = self.ax.plot(x_values_2, y_values_2, 'o', markerfacecolor='red', **plot_args)\n",
    "       \n",
    "    def dibujar(self, step):\n",
    "        x_values_0, y_values_0 = [], []\n",
    "        for agente in self.agentes:\n",
    "            \n",
    "            x_values_0.append(x)\n",
    "            y_values_0.append(y)\n",
    "\n",
    "        self.puntos.set_data(x_values_0, y_values_0)\n",
    "        \n",
    "        self.ax.set_title('Tiempo {}'.format(step))\n",
    "        \n",
    "        return self.puntos,\n",
    "       \n",
    "    def actualizar(self, step):   \n",
    "        self.dibujar(step) # Dibuja el mundo\n",
    "        \n",
    "        for agente in self.agentes:\n",
    "            agente.actualizar(self.agentes)\n",
    "    \n",
    "    def clean_screen(self):\n",
    "        self.puntos.set_data([], [])\n",
    "        return self.puntos,\n",
    "          \n",
    "    def simular(self):\n",
    "        anim = animation.FuncAnimation(self.fig, self.actualizar, init_func=self.clean_screen, frames=self.steps, interval=100, blit=False)\n",
    "        return anim"
   ]
  },
  {
   "cell_type": "code",
   "execution_count": null,
   "metadata": {
    "collapsed": true
   },
   "outputs": [],
   "source": []
  },
  {
   "cell_type": "code",
   "execution_count": null,
   "metadata": {
    "collapsed": false
   },
   "outputs": [],
   "source": []
  },
  {
   "cell_type": "code",
   "execution_count": null,
   "metadata": {
    "collapsed": false
   },
   "outputs": [],
   "source": []
  },
  {
   "cell_type": "code",
   "execution_count": null,
   "metadata": {
    "collapsed": false
   },
   "outputs": [],
   "source": []
  },
  {
   "cell_type": "code",
   "execution_count": null,
   "metadata": {
    "collapsed": false
   },
   "outputs": [],
   "source": []
  },
  {
   "cell_type": "code",
   "execution_count": null,
   "metadata": {
    "collapsed": true
   },
   "outputs": [],
   "source": []
  }
 ],
 "metadata": {
  "kernelspec": {
   "display_name": "Python 2",
   "language": "python",
   "name": "python2"
  },
  "language_info": {
   "codemirror_mode": {
    "name": "ipython",
    "version": 2
   },
   "file_extension": ".py",
   "mimetype": "text/x-python",
   "name": "python",
   "nbconvert_exporter": "python",
   "pygments_lexer": "ipython2",
   "version": "2.7.9"
  }
 },
 "nbformat": 4,
 "nbformat_minor": 0
}
