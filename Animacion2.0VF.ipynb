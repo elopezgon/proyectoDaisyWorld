{
 "cells": [
  {
   "cell_type": "code",
   "execution_count": 280,
   "metadata": {
    "collapsed": false
   },
   "outputs": [
    {
     "name": "stdout",
     "output_type": "stream",
     "text": [
      "Populating the interactive namespace from numpy and matplotlib\n"
     ]
    }
   ],
   "source": [
    "%pylab inline\n",
    "import numpy as np\n",
    "import matplotlib.pyplot as plt\n",
    "from JSAnimation import IPython_display\n",
    "from matplotlib import animation"
   ]
  },
  {
   "cell_type": "markdown",
   "metadata": {},
   "source": [
    "SIMULACIÓN"
   ]
  },
  {
   "cell_type": "markdown",
   "metadata": {},
   "source": [
    "Se utilizo las MISMAS CLASES que en el modelo original"
   ]
  },
  {
   "cell_type": "code",
   "execution_count": 313,
   "metadata": {
    "collapsed": false
   },
   "outputs": [],
   "source": [
    "class Planeta:\n",
    "    step=0\n",
    "    area_blanca = []\n",
    "    area_negra =[]\n",
    "    \n",
    "    def __init__(self,plantas, albedo_f, luminosidad, prop_fertil = 0.98, q = 15, boltz = 5.67e-8):\n",
    "        self.blanca = plantas[0]\n",
    "        self.negra = plantas[1]       \n",
    "        self.albedo_f = albedo_f\n",
    "        self.luminosidad = luminosidad\n",
    "        self.boltz = boltz\n",
    "        self.albedo_p = None\n",
    "        self.temp_g = None\n",
    "        self.q = q\n",
    "        self.prop_fertil = prop_fertil\n",
    "        self.step = 0\n",
    "        \n",
    "    def actualiza_temp_g(self):\n",
    "        self.temp_g = ((self.luminosidad[self.step]/(self.boltz))*(1 - self.albedo_p))**0.25 \n",
    "        #print self.temp_g\n",
    "    \n",
    "    def actualiza_albedo_p(self):\n",
    "        self.prop_fertil = 1 - self.blanca.prop_area - self.negra.prop_area\n",
    "        self.albedo_p = self.blanca.prop_area * self.blanca.albedo + self.negra.prop_area * self.negra.albedo + self.prop_fertil * self.albedo_f\n",
    "        #print self.albedo_p\n",
    "        \n",
    "    def vivir(self):\n",
    "        for i in self.luminosidad:\n",
    "            self.actualiza_albedo_p()\n",
    "            self.actualiza_temp_g()\n",
    "            self.blanca.actualizar(self)\n",
    "            self.negra.actualizar(self)\n",
    "            self.area_blanca.append(self.blanca.prop_area)\n",
    "            self.area_negra.append(self.negra.prop_area)\n",
    "            self.step += 1\n",
    "        \n",
    "        \n",
    "    def iam(self):\n",
    "        print \"TEMPERATUA GLOBAL: \" + str(self.temp_g) + \" ALBEDO GLOBAL: \" + str(self.albedo_p)\n",
    "        print \"PROPORCION FERTIL: \" + str(self.prop_fertil)\n",
    "        print \"STEP \" + str(self.step)\n",
    "        print \"AREA NEGRAS \" + str(len(self.area_negra))\n",
    "        for i in self.area_negra:\n",
    "            print i\n",
    "        print \"AREAS BLANCAS:\" + str(len(self.area_blanca))\n",
    "        for i in self.area_blanca:\n",
    "            print i\n",
    "        \n",
    "        \n",
    "    def grafica(self):\n",
    "        plt.plot(self.luminosidad,self.area_blanca)\n",
    "        plt.plot(self.luminosidad,self.area_negra)\n",
    "        \n",
    "    \n",
    "    def convertir(self):\n",
    "        #Discretizo cada uno de mis vectores de areas, de tal manera que \n",
    "        #por cada intervalo de tiempo(lugar en mi arreglo), tengo un tercia de números que contienen\n",
    "        # el número de margaritas  que existen por color\n",
    "        self.area_blanca= np.array(self.area_blanca)*100                        \n",
    "        self.area_blanca = np.round(self.area_blanca).astype(int)\n",
    "        self.area_negra= np.array(self.area_negra)*100\n",
    "        self.area_negra = np.round(self.area_negra).astype(int)\n",
    "        self.area_fertil = np.ones(100)*100 - self.area_blanca - self.area_negra\n",
    "        self.area_fertil = self.area_fertil.astype(int)\n",
    "    \n",
    "    def simular(self):\n",
    "        self.convertir()\n",
    "        agentes=[]\n",
    "        agentes.append(Agente(tipo=0,locacion = (0.5, 0.5)))\n",
    "        agentes.append(Agente(tipo=1,locacion= (0.5, 1.5)))\n",
    "        lista = [(i+.5,j+.5) for i in range(0,10)for j in range(0,10)][2:]\n",
    "        agentes.extend(Agente(tipo=2,locacion= lista[i]) for i in range(len(lista)))\n",
    "        sim = Mundo2(agentes = agentes,ar_negra = self.area_negra,ar_blanca=self.area_blanca,ar_fertil=self.area_fertil, steps = 100,metodo = 1)\n",
    "        sim.simular()\n",
    "    "
   ]
  },
  {
   "cell_type": "code",
   "execution_count": 314,
   "metadata": {
    "collapsed": false
   },
   "outputs": [],
   "source": [
    "class Planta:\n",
    "    dif_area =0\n",
    "    temp_l=0\n",
    "    tasa_cre = 0\n",
    "    def __init__(self,color, albedo, prop_area = 0.01, tasa_muerte = 0.1\n",
    "               ,superior = 313, inferior = 278):\n",
    "        self.color = color\n",
    "        self.albedo = albedo\n",
    "        self.prop_area = prop_area\n",
    "        self.tasa_muerte = tasa_muerte\n",
    "        self.superior = superior\n",
    "        self.inferior = inferior\n",
    "        \n",
    "\n",
    "        \n",
    "    def actualiza_temp_l(self, mundo):\n",
    "        self.temp_l = mundo.q * (mundo.albedo_p - self.albedo) + mundo.temp_g\n",
    "        #print self.color + \" : \" + str(self.temp_l)\n",
    "        \n",
    "    def actualiza_taza_cre(self):\n",
    "        if self.temp_l > self.inferior and self.temp_l < self.superior :\n",
    "            self.tasa_cre = (self.temp_l - self.inferior) * (self.superior - self.temp_l) * 4 / (self.inferior -self.superior)**2\n",
    "            #print \"TASA DE CRECIMIENTO \"+ str(self.tasa_cre)\n",
    "        else:\n",
    "            self.tasa_cre = 0\n",
    "                \n",
    "            \n",
    "    def actualiza_area(self,mundo):\n",
    "        self.dif_area = self.prop_area*(self.tasa_cre * mundo.prop_fertil - self.tasa_muerte)\n",
    "        #print \"El difrencial de area\" + str(self.dif_area)\n",
    "        self.prop_area = self.prop_area  + self.dif_area\n",
    "        if self.prop_area <= 0.01:\n",
    "            self.prop_area = 0.01\n",
    "        if self.prop_area >= .99:\n",
    "            self.prop_area = .99\n",
    "\n",
    "    def actualizar(self,mundo):\n",
    "        self.actualiza_temp_l(mundo)\n",
    "        self.actualiza_taza_cre()\n",
    "        self.actualiza_area(mundo)\n",
    "    \n",
    "    def iam(self):\n",
    "        print \"COLOR: \" + self.color + \" ALBEDO: \" + str(self.albedo)\n",
    "        print \"TASA DE MUERTE: \" + str(self.tasa_muerte) + \" TASA DE CRECIMIENTO: \" + str(self.tasa_cre)\n",
    "        print \"TEMPERATURA LOCAL:\" + str(self.temp_l) \n",
    "        print \"AREA \" + str(self.prop_area)\n",
    "\n",
    "        "
   ]
  },
  {
   "cell_type": "code",
   "execution_count": 315,
   "metadata": {
    "collapsed": false
   },
   "outputs": [],
   "source": [
    "class Mundo2:\n",
    "    def __init__(self, agentes,ar_negra,ar_blanca,ar_fertil, ancho=15, alto=15, steps=100,metodo=0):\n",
    "        self.agentes = agentes\n",
    "        self.ancho = ancho\n",
    "        self.alto = alto\n",
    "        self.steps = steps\n",
    "        self.ar_negra = ar_negra\n",
    "        self.ar_blanca = ar_blanca\n",
    "        self.ar_fertil = ar_fertil\n",
    "        self.metodo = metodo\n",
    "        self.init_anim()\n",
    "            \n",
    "    def init_anim(self):\n",
    "        self.fig = plt.figure(figsize=(self.ancho, self.alto))\n",
    "        self.ax = plt.axes(xlim=(0, 10), ylim=(0, 10))\n",
    "        self.ax.set_axis_bgcolor('azure')\n",
    "        plot_args = {'markersize' : 8, 'alpha' : 1}\n",
    "        self.puntos_0, = self.ax.plot([], [], 'o', markerfacecolor='white', **plot_args)\n",
    "        self.puntos_1, = self.ax.plot([], [], 'o', markerfacecolor='black', **plot_args)\n",
    "        self.puntos_2, = self.ax.plot([], [], 'o', markerfacecolor='red', **plot_args)\n",
    "        \n",
    "        \n",
    "    def dibujar(self, step):\n",
    "        x_values_0, y_values_0 = [], []\n",
    "        x_values_1, y_values_1 = [], []\n",
    "        x_values_2, y_values_2 = [], []\n",
    "        for agente in self.agentes:\n",
    "            x, y = agente.locacion\n",
    "            if agente.tipo == 0:\n",
    "                x_values_0.append(x)\n",
    "                y_values_0.append(y)\n",
    "                \n",
    "            if agente.tipo == 1:\n",
    "                    x_values_1.append(x)\n",
    "                    y_values_1.append(y)\n",
    "            if agente.tipo == 2:\n",
    "                    x_values_2.append(x)\n",
    "                    y_values_2.append(y)        \n",
    "        print x_values_1, y_values_1\n",
    "        self.puntos_0.set_data(x_values_1, y_values_1)\n",
    "        self.puntos_1.set_data(x_values_0, y_values_0)\n",
    "        self.puntos_2.set_data(x_values_2, y_values_2)\n",
    "       \n",
    "        self.ax.set_title('Tiempo {}'.format(step))\n",
    "        \n",
    "        return \n",
    "       \n",
    "    def actualizar(self, step):   \n",
    "        self.dibujar(step) # Dibuja el mundo \n",
    "        if self.metodo==0:\n",
    "            pos = self.obtener_posiciones(self.ar_negra,self.ar_blanca,self.ar_fertil,step)\n",
    "        else:\n",
    "            pos = self.obtener_posiciones_2(self.ar_negra,self.ar_blanca,self.ar_fertil,step)\n",
    "        for i in range(len(pos[0])):\n",
    "            self.agentes[i].actualizar(0,pos[0][i])\n",
    "        for i in range(len(pos[1])):\n",
    "            self.agentes[i+len(pos[0])].actualizar(1,pos[1][i])\n",
    "        for i in range(len(pos[2])):\n",
    "            self.agentes[i+len(pos[0])+len(pos[1])].actualizar(2,pos[2][i])\n",
    "       \n",
    "    \n",
    "    def clean_screen(self):\n",
    "        self.puntos_0.set_data([], [])\n",
    "        self.puntos_1.set_data([], [])\n",
    "        self.puntos_2.set_data([], [])\n",
    "        return \n",
    "    \n",
    "    def obtener_posiciones(self,area_negra,area_blanca,area_fertil,step):\n",
    "        negras = area_negra[step]\n",
    "        blancas = area_blanca[step]\n",
    "        fertil = 100-negras-blancas\n",
    "        posiciones = [(i+.5,j+.5) for i in range(0,10)for j in range(0,10)]\n",
    "        po_neg=[]\n",
    "        for i in  range(negras): \n",
    "            n = np.random.choice(100-i)\n",
    "            po_neg.append(posiciones.pop(n))  \n",
    "        po_blan = []\n",
    "        k = 100-negras\n",
    "        for i in  range(blancas):\n",
    "            n = np.random.choice(k-i)\n",
    "            po_blan.append(posiciones.pop(n))\n",
    "        return po_neg,po_blan,posiciones\n",
    "    \n",
    "    def obtener_posiciones_2(self,area_negra,area_blanca,area_fertil,step):\n",
    "        negras = area_negra[step]\n",
    "        blancas = area_blanca[step]\n",
    "        fertil = 100-negras-blancas\n",
    "        posiciones = [(i+.5,j+.5) for i in range(0,10)for j in range(0,10)]\n",
    "        po_neg=[]\n",
    "        for i in  range(negras): \n",
    "            po_neg.append(posiciones[i])  \n",
    "        po_blan = []\n",
    "        for i in  range(blancas):\n",
    "            po_blan.append(posiciones[i+negras])\n",
    "            \n",
    "        posiciones = posiciones[negras+blancas:]\n",
    "        return po_neg,po_blan,posiciones\n",
    "\n",
    "          \n",
    "    def simular(self):\n",
    "        anim = animation.FuncAnimation(self.fig, self.actualizar, init_func=self.clean_screen , frames=self.steps, interval=1000, blit=True)\n",
    "        return anim"
   ]
  },
  {
   "cell_type": "code",
   "execution_count": 316,
   "metadata": {
    "collapsed": true
   },
   "outputs": [],
   "source": [
    "class Agente:\n",
    "    \"\"\" Agente general \"\"\"\n",
    "    def __init__(self, tipo, locacion):\n",
    "        self.tipo = tipo\n",
    "        self.locacion = np.array(locacion)\n",
    "     \n",
    "    def actualizar(self, tipo,locacion):\n",
    "        self.tipo = tipo\n",
    "        self.locacion = np.array(locacion)"
   ]
  },
  {
   "cell_type": "code",
   "execution_count": 317,
   "metadata": {
    "collapsed": true
   },
   "outputs": [],
   "source": [
    "def condiciones_iniciales():\n",
    "    negra = Planta(\"negra\",.25)\n",
    "    blanca = Planta(\"blanca\",.75)\n",
    "    luminosidad = np.linspace(.6,1.8,100)\n",
    "    luminosidad *=1000\n",
    "    plantas = [negra,blanca]\n",
    "    primer_intento = Planeta(plantas, 0.5,luminosidad)\n",
    "    primer_intento.vivir()\n",
    "    primer_intento.simular()\n",
    "    "
   ]
  },
  {
   "cell_type": "code",
   "execution_count": 318,
   "metadata": {
    "collapsed": false
   },
   "outputs": [
    {
     "data": {
      "image/png": "[encoded data removed]",
      "text/plain": [
       "<matplotlib.figure.Figure at 0xeaee160>"
      ]
     },
     "metadata": {},
     "output_type": "display_data"
    }
   ],
   "source": [
    "condiciones_iniciales()"
   ]
  },
  {
   "cell_type": "code",
   "execution_count": null,
   "metadata": {
    "collapsed": true
   },
   "outputs": [],
   "source": []
  },
  {
   "cell_type": "code",
   "execution_count": null,
   "metadata": {
    "collapsed": true
   },
   "outputs": [],
   "source": []
  },
  {
   "cell_type": "code",
   "execution_count": null,
   "metadata": {
    "collapsed": true
   },
   "outputs": [],
   "source": []
  }
 ],
 "metadata": {
  "kernelspec": {
   "display_name": "Python 2",
   "language": "python",
   "name": "python2"
  },
  "language_info": {
   "codemirror_mode": {
    "name": "ipython",
    "version": 2
   },
   "file_extension": ".py",
   "mimetype": "text/x-python",
   "name": "python",
   "nbconvert_exporter": "python",
   "pygments_lexer": "ipython2",
   "version": "2.7.9"
  }
 },
 "nbformat": 4,
 "nbformat_minor": 0
}
